{
 "cells": [
  {
   "cell_type": "markdown",
   "id": "integrated-jewel",
   "metadata": {},
   "source": [
    "## Imports"
   ]
  },
  {
   "cell_type": "code",
   "execution_count": 2,
   "id": "inside-valve",
   "metadata": {},
   "outputs": [],
   "source": [
    "import psycopg2\n",
    "import numpy as np\n",
    "from PIL import Image, ImageDraw"
   ]
  },
  {
   "cell_type": "markdown",
   "id": "genuine-glenn",
   "metadata": {},
   "source": [
    "## Connect to DB"
   ]
  },
  {
   "cell_type": "code",
   "execution_count": 20,
   "id": "touched-revolution",
   "metadata": {},
   "outputs": [],
   "source": [
    "connection = psycopg2.connect(\n",
    "    host=\"localhost\",\n",
    "    database=\"postgres\",\n",
    "    user=\"postgres\",\n"
   ]
  },
  {
   "cell_type": "markdown",
   "id": "visible-survival",
   "metadata": {},
   "source": [
    "## Load sql file"
   ]
  },
  {
   "cell_type": "code",
   "execution_count": 40,
   "id": "educational-fighter",
   "metadata": {},
   "outputs": [],
   "source": [
    "with open('gol.sql', 'r') as file:\n",
    "    gol_sql = file.read()"
   ]
  },
  {
   "cell_type": "markdown",
   "id": "present-contract",
   "metadata": {},
   "source": [
    "## Play Game of life"
   ]
  },
  {
   "cell_type": "code",
   "execution_count": 41,
   "id": "political-colombia",
   "metadata": {},
   "outputs": [],
   "source": [
    "cursor = connection.cursor()\n",
    "cursor.execute(gol_sql + \";\")\n",
    "game_iterations = cursor.fetchall()"
   ]
  },
  {
   "cell_type": "code",
   "execution_count": 42,
   "id": "organizational-lesson",
   "metadata": {
    "scrolled": true
   },
   "outputs": [
    {
     "data": {
      "text/plain": [
       "501"
      ]
     },
     "execution_count": 42,
     "metadata": {},
     "output_type": "execute_result"
    }
   ],
   "source": [
    "len(game_iterations)"
   ]
  },
  {
   "cell_type": "markdown",
   "id": "amazing-layer",
   "metadata": {},
   "source": [
    "## Make gif"
   ]
  },
  {
   "cell_type": "code",
   "execution_count": 44,
   "id": "historic-metallic",
   "metadata": {},
   "outputs": [],
   "source": [
    "images = []\n",
    "\n",
    "for game_iteration in game_iterations:\n",
    "    a = game_iteration[1]\n",
    "    img = Image.new('RGB', [50,50], 255)\n",
    "    data = img.load()\n",
    "\n",
    "    for x in range(img.size[0]):\n",
    "        for y in range(img.size[1]):\n",
    "            data[x,y] = (a[x][y] * 255, a[x][y] * 255, a[x][y] * 255)\n",
    "    images.append(img)\n",
    "    \n",
    "images[0].save('gol.gif',\n",
    "               save_all=True, append_images=images[1:], optimize=False, duration=20, include_color_table=True, loop=0)"
   ]
  }
 ],
 "metadata": {
  "kernelspec": {
   "display_name": "Python 3",
   "language": "python",
   "name": "python3"
  },
  "language_info": {
   "codemirror_mode": {
    "name": "ipython",
    "version": 3
   },
   "file_extension": ".py",
   "mimetype": "text/x-python",
   "name": "python",
   "nbconvert_exporter": "python",
   "pygments_lexer": "ipython3",
   "version": "3.8.7"
  }
 },
 "nbformat": 4,
 "nbformat_minor": 5
}
